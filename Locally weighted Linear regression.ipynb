{
 "cells": [
  {
   "cell_type": "code",
   "execution_count": 1,
   "metadata": {
    "id": "T3OCPxsK-AtN"
   },
   "outputs": [],
   "source": [
    "import pandas as pd\n",
    "import numpy as np\n",
    "import matplotlib.pyplot as plt\n",
    "import math"
   ]
  },
  {
   "attachments": {},
   "cell_type": "markdown",
   "metadata": {},
   "source": [
    "### Implemented a locally weighted linear regression learner to solve the best fit problem for 1 dimensional data."
   ]
  },
  {
   "cell_type": "code",
   "execution_count": 2,
   "metadata": {
    "id": "-jhBxF6LCn7f"
   },
   "outputs": [],
   "source": [
    "def readData(string):\n",
    "    df = pd.read_csv(string, sep=\",\", index_col=False)\n",
    "    df.columns = [\"x\", \"y\"]\n",
    "    data = np.array(df, dtype=float)\n",
    "    return data[:, :-1], data[:, -1], df"
   ]
  },
  {
   "cell_type": "code",
   "execution_count": 3,
   "metadata": {
    "id": "IXKgyzjcLUuY"
   },
   "outputs": [],
   "source": [
    "def wm(point, X, tau): \n",
    "    m = X.shape[0] \n",
    "    w = np.mat(np.eye(m)) \n",
    "    for i in range(m): \n",
    "        xi = X[i] \n",
    "        d = (-2 * tau * tau) \n",
    "        w[i, i] = np.exp(np.dot((xi-point), (xi-point).T)/d) \n",
    "        \n",
    "    return w"
   ]
  },
  {
   "cell_type": "code",
   "execution_count": 4,
   "metadata": {
    "id": "RF4lkXV7LUjd"
   },
   "outputs": [],
   "source": [
    "def predict(X, y, point, tau = 0.176): \n",
    "    \n",
    "    m = X.shape[0] \n",
    "    X_ = np.append(X, np.ones(m).reshape(m,1), axis=1) \n",
    "    point_ = np.array([point, 1], dtype=object) \n",
    "    w = wm(point_, X_, tau)\n",
    "    theta = np.linalg.pinv(X_.T*(w * X_))*(X_.T*(w * y)) \n",
    "    pred = np.dot(point_, theta) \n",
    "    \n",
    "    return theta, pred"
   ]
  },
  {
   "cell_type": "code",
   "execution_count": 6,
   "metadata": {
    "colab": {
     "base_uri": "https://localhost:8080/",
     "height": 320
    },
    "id": "Xex77J0_MPUm",
    "outputId": "c00410c4-4846-4a95-f73f-167ae363fdee"
   },
   "outputs": [],
   "source": [
    "def plot_predictions(X, y, tau, nval):\n",
    "\n",
    "    X_test, y_test, df_test = readData(\"1c_testing.csv\")\n",
    " \n",
    "    preds = [] \n",
    " \n",
    "    for point in X_test: \n",
    "        theta, pred = predict(X, y, point, tau) \n",
    "        preds.append(pred)\n",
    "\n",
    "    X_test = np.array(X_test).reshape(nval,1)\n",
    "    preds = np.array(preds).reshape(nval,1)\n",
    "\n",
    "    plt.plot(X, y, 'b.')\n",
    "    plt.plot(X_test, preds, 'r.') \n",
    "    plt.show()"
   ]
  },
  {
   "cell_type": "code",
   "execution_count": 5,
   "metadata": {},
   "outputs": [],
   "source": [
    "def error(X_test, y_test, tau):\n",
    "    preds = []\n",
    "    nval = X_test.shape[0]\n",
    "    for x in X_test:\n",
    "        theta, pred = predict(X, y, x, tau)\n",
    "        preds.append(pred)\n",
    "    preds = np.array(preds).reshape(nval,1)\n",
    "    \n",
    "    MSE = np.square(np.subtract(y_test,preds)).mean() \n",
    " \n",
    "    RMSE = math.sqrt(MSE)\n",
    "    print(\"Root Mean Square Error:\\n\")\n",
    "    print(RMSE)"
   ]
  },
  {
   "attachments": {},
   "cell_type": "markdown",
   "metadata": {},
   "source": [
    "### Applied the locally weighted linear regression learner to the data set and displayed the resulting function together with the data points"
   ]
  },
  {
   "cell_type": "code",
   "execution_count": 7,
   "metadata": {
    "id": "3r59GYpgLUx1"
   },
   "outputs": [],
   "source": [
    "X, y, df = readData('1b_training.csv')\n",
    "y = y.reshape(y.shape[0], 1)\n",
    "X_test, y_test, df_test = readData(\"1c_testing.csv\")"
   ]
  },
  {
   "cell_type": "code",
   "execution_count": 12,
   "metadata": {},
   "outputs": [
    {
     "data": {
      "image/png": "[encoded data removed]",
      "text/plain": [
       "<Figure size 432x288 with 1 Axes>"
      ]
     },
     "metadata": {
      "needs_background": "light"
     },
     "output_type": "display_data"
    }
   ],
   "source": [
    "plot_predictions(X, y, 0.176, 10)"
   ]
  },
  {
   "attachments": {},
   "cell_type": "markdown",
   "metadata": {},
   "source": [
    "### Evaluated the locally weighted linear regression on the Test data. Compared it with the linear regressor problem as descirbed in the previous file"
   ]
  },
  {
   "cell_type": "code",
   "execution_count": 11,
   "metadata": {},
   "outputs": [
    {
     "name": "stdout",
     "output_type": "stream",
     "text": [
      "Root Mean Square Error:\n",
      "\n",
      "10.171271655812628\n"
     ]
    }
   ],
   "source": [
    "error(X_test, y_test, 0.176)"
   ]
  },
  {
   "attachments": {},
   "cell_type": "markdown",
   "metadata": {},
   "source": [
    "The predictions on the test data given in the question is better for the hypothesis function developed in the above block. It can be inferred from the RMSE value of both the models respectively where RMSE for locally weighted linear regression is more than that of model developed by linear regression. "
   ]
  },
  {
   "attachments": {},
   "cell_type": "markdown",
   "metadata": {},
   "source": [
    "### Repeated the experiment and evaluation using only the first 20 elements of the training data set. Compared the results with the linear regressor and explanation"
   ]
  },
  {
   "cell_type": "code",
   "execution_count": 13,
   "metadata": {},
   "outputs": [],
   "source": [
    "def error(X_test, y_test, tau):\n",
    "    preds = []\n",
    "    nval = X_test.shape[0]\n",
    "    for x in X_test:\n",
    "        theta, pred = predict(X[:20], y[:20], x, tau)\n",
    "        preds.append(pred)\n",
    "    preds = np.array(preds).reshape(nval,1)\n",
    "    \n",
    "    MSE = np.square(np.subtract(y_test,preds)).mean() \n",
    " \n",
    "    RMSE = math.sqrt(MSE)\n",
    "    print(\"Root Mean Square Error:\\n\")\n",
    "    print(RMSE)"
   ]
  },
  {
   "cell_type": "code",
   "execution_count": 14,
   "metadata": {},
   "outputs": [
    {
     "name": "stdout",
     "output_type": "stream",
     "text": [
      "Root Mean Square Error:\n",
      "\n",
      "10.8714393322233\n"
     ]
    }
   ],
   "source": [
    "error(X_test, y_test, 0.176)"
   ]
  },
  {
   "attachments": {},
   "cell_type": "markdown",
   "metadata": {},
   "source": [
    "The predictions on the test data given for the first 20 elements of the training data is better for the hypothesis function developed in question 1. It can be inferred from the RMSE value of both the models respectively where RMSE for locally weighted linear regression is more than that of the model developed by linear regression. The linear regression model performed better in this case too. <br>\n",
    "This is because the hypothesis function of linear regression model nicely fits the test data given than that of locally weighted linear regression."
   ]
  },
  {
   "attachments": {},
   "cell_type": "markdown",
   "metadata": {},
   "source": [
    "Given the results from the above parts, the data set used was actually derived from a function that is consostent with the function format in previous problem statement. From the results obtained from the previous parts that turns out to be bad as compared to that of linear regression it can be inferred the same discussed."
   ]
  }
 ],
 "metadata": {
  "colab": {
   "collapsed_sections": [],
   "name": "P1_Wei_Lin_Reg.ipynb",
   "provenance": []
  },
  "kernelspec": {
   "display_name": "Python 3",
   "language": "python",
   "name": "python3"
  },
  "language_info": {
   "codemirror_mode": {
    "name": "ipython",
    "version": 3
   },
   "file_extension": ".py",
   "mimetype": "text/x-python",
   "name": "python",
   "nbconvert_exporter": "python",
   "pygments_lexer": "ipython3",
   "version": "3.8.8"
  }
 },
 "nbformat": 4,
 "nbformat_minor": 1
}
