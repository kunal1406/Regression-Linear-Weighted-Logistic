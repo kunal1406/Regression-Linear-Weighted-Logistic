{
 "cells": [
  {
   "cell_type": "code",
   "execution_count": 1,
   "id": "12fa0fa3",
   "metadata": {},
   "outputs": [],
   "source": [
    "import numpy as np\n",
    "import math\n",
    "import pandas as pd"
   ]
  },
  {
   "cell_type": "code",
   "execution_count": 2,
   "id": "2dba6c74",
   "metadata": {},
   "outputs": [],
   "source": [
    "learning_rate = 0.0001\n",
    "epoch_num = 1000"
   ]
  },
  {
   "cell_type": "code",
   "execution_count": 3,
   "id": "c0108eda",
   "metadata": {},
   "outputs": [],
   "source": [
    "# the logistic function\n",
    "def sigmoid(theta, input):\n",
    "    \n",
    "    h = np.dot(theta, input)\n",
    "    return 1 / (1 + math.exp(-h))\n",
    "\n",
    "def logistic_regression_fit(train_input):\n",
    "    \n",
    "    misclassification_error = 0\n",
    "    print(\"Training\")\n",
    "    # initialize theta\n",
    "    theta = np.random.uniform(low=-0.1, high=0.1, size=(train_input.shape[1]))\n",
    "\n",
    "    # stochastic gradient descent\n",
    "    for epoch_i in range(epoch_num):\n",
    "\n",
    "        index = np.random.randint(0, train_input.shape[0])\n",
    "        # for sample_i in range(train_input.shape[0]):\n",
    "        # forward pass\n",
    "        y_hat = sigmoid(theta, train_input[index])\n",
    "        # the label\n",
    "        y = 1 if train_labels[index] == ' M' else 0\n",
    "\n",
    "        # error = np.power(y_hat, y) * np.power((1 - y_hat), 1 - y)\n",
    "\n",
    "        if y_hat <= 0.5 and y == 1 or y_hat > 0.5 and y == 0:\n",
    "            misclassification_error += 1\n",
    "\n",
    "        # stochastic gradient update\n",
    "        theta += learning_rate * (y - y_hat) * train_input[index]\n",
    "        # print(theta)\n",
    "\n",
    "        if (epoch_i + 1) % 100 == 0:\n",
    "            print(\"Avg Misclassification Error: {} on epoch {}\".format(misclassification_error / 100, epoch_i + 1))\n",
    "            if misclassification_error / 1000 <= 0.01:\n",
    "                break\n",
    "            misclassification_error = 0\n",
    "    print(\"End of Training\")\n",
    "    return theta\n",
    "\n"
   ]
  },
  {
   "cell_type": "code",
   "execution_count": 4,
   "id": "06679afe",
   "metadata": {},
   "outputs": [],
   "source": [
    "df = pd.read_csv('2adata.csv')\n",
    "df.columns = ['h', 'w', 'a', 'g']\n",
    "heights = df.h\n",
    "weights = df.w\n",
    "age = df.a\n",
    "gender = df.g"
   ]
  },
  {
   "cell_type": "code",
   "execution_count": 5,
   "id": "eefcae31",
   "metadata": {},
   "outputs": [
    {
     "name": "stdout",
     "output_type": "stream",
     "text": [
      "Training\n",
      "Avg Misclassification Error: 0.54 on epoch 100\n",
      "Avg Misclassification Error: 0.49 on epoch 200\n",
      "Avg Misclassification Error: 0.52 on epoch 300\n",
      "Avg Misclassification Error: 0.54 on epoch 400\n",
      "Avg Misclassification Error: 0.54 on epoch 500\n",
      "Avg Misclassification Error: 0.54 on epoch 600\n",
      "Avg Misclassification Error: 0.5 on epoch 700\n",
      "Avg Misclassification Error: 0.51 on epoch 800\n",
      "Avg Misclassification Error: 0.58 on epoch 900\n",
      "Avg Misclassification Error: 0.54 on epoch 1000\n",
      "End of Training\n"
     ]
    }
   ],
   "source": [
    "train_input = np.asarray([heights, weights, age]).T\n",
    "train_labels = np.asarray(gender)\n",
    "theta = logistic_regression_fit(train_input)"
   ]
  },
  {
   "cell_type": "code",
   "execution_count": 6,
   "id": "11f45766",
   "metadata": {},
   "outputs": [],
   "source": [
    "df_test = pd.read_csv(\"2aTest.csv\")\n",
    "df_list = df_test.values.tolist()"
   ]
  },
  {
   "cell_type": "code",
   "execution_count": 7,
   "id": "5e96f161",
   "metadata": {},
   "outputs": [],
   "source": [
    "def classification(sample):\n",
    "    y_hat = sigmoid(theta, sample)\n",
    "    pred_class = \" M\" if y_hat >= 0.5 else \" W\"\n",
    "    return pred_class"
   ]
  },
  {
   "cell_type": "code",
   "execution_count": 8,
   "id": "9f20ba50",
   "metadata": {},
   "outputs": [
    {
     "name": "stdout",
     "output_type": "stream",
     "text": [
      "Testing\n",
      "Predicted class:  M\n",
      "Predicted class:  M\n",
      "Predicted class:  M\n",
      "Predicted class:  M\n"
     ]
    }
   ],
   "source": [
    "print(\"Testing\")\n",
    "for sample in df_list:\n",
    "    y_hat = sigmoid(theta, sample)\n",
    "    pred_class = \" M\" if y_hat >= 0.5 else \" W\"\n",
    "    print(\"Predicted class: {}\".format(pred_class))"
   ]
  },
  {
   "attachments": {},
   "cell_type": "markdown",
   "id": "5f12c184",
   "metadata": {},
   "source": [
    "# Leave one out"
   ]
  },
  {
   "cell_type": "code",
   "execution_count": 9,
   "id": "c673988d",
   "metadata": {},
   "outputs": [],
   "source": [
    "data2c = pd.read_csv('data2c.csv')\n",
    "data2c.columns = ['h', 'w', 'a', 'g']\n",
    "heights = data2c.h\n",
    "weights = data2c.w\n",
    "age = data2c.a\n",
    "gender = data2c.g"
   ]
  },
  {
   "cell_type": "code",
   "execution_count": 10,
   "id": "1b91416f",
   "metadata": {},
   "outputs": [
    {
     "name": "stdout",
     "output_type": "stream",
     "text": [
      "67/120 correct predictions using all features\n"
     ]
    }
   ],
   "source": [
    "count = 0\n",
    "    \n",
    "for index, test_sample in data2c.iterrows():\n",
    "        \n",
    "    sample = test_sample.values[:3]\n",
    "    target = test_sample.values[3]\n",
    "    prediction = classification(sample)\n",
    "    data2c.drop(index)\n",
    "    \n",
    "    if target == prediction:\n",
    "        count = count + 1\n",
    "        \n",
    "print(\"{}/{} correct predictions using all features\".format(count, data2c.shape[0]))"
   ]
  },
  {
   "attachments": {},
   "cell_type": "markdown",
   "id": "b349bd01",
   "metadata": {},
   "source": [
    "# With age feature removed"
   ]
  },
  {
   "cell_type": "code",
   "execution_count": null,
   "id": "8f7a822c",
   "metadata": {},
   "outputs": [],
   "source": [
    "count = 0\n",
    "    \n",
    "for index, test_sample in data2c.iterrows():\n",
    "        \n",
    "    sample = test_sample.values[:2]\n",
    "    target = test_sample.values[3]\n",
    "    prediction = classification(sample)\n",
    "    data2c.drop(index)\n",
    "    \n",
    "    if target == prediction:\n",
    "        count = count + 1\n",
    "        \n",
    "print(\"{}/{} correct predictions without age feature\".format(count, data2c.shape[0]))"
   ]
  }
 ],
 "metadata": {
  "kernelspec": {
   "display_name": "Python 3",
   "language": "python",
   "name": "python3"
  },
  "language_info": {
   "codemirror_mode": {
    "name": "ipython",
    "version": 3
   },
   "file_extension": ".py",
   "mimetype": "text/x-python",
   "name": "python",
   "nbconvert_exporter": "python",
   "pygments_lexer": "ipython3",
   "version": "3.8.8"
  }
 },
 "nbformat": 4,
 "nbformat_minor": 5
}
